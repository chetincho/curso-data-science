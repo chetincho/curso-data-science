{
 "cells": [
  {
   "cell_type": "markdown",
   "metadata": {},
   "source": [
    "Diferencias entre listas y arrays<br>\n",
    "- Listas:<br>\n",
    "     * Puede contener elementos de distintos tipos de datos<br>\n",
    "     * No es necesario importar un módulo para su uso<br>\n",
    "     * No puede manejar operaciones aritméticas directamente<br>\n",
    "     * Es útil si la cantidad de elementos a almacenar no es muy grande<br>\n",
    "- Arrays:<br>\n",
    "     * Solo puede almacena elementos del mismo tipo de dato<br>\n",
    "     * Es necesario importar un módulo para su utilización<br>\n",
    "     * Puede manejar operaciones arirméticas directamente sobre sus elementos<br>\n",
    "     * Es especialmente útil si la cantidad de elementos a almacenar y procesar es muy grande<br>"
   ]
  },
  {
   "cell_type": "code",
   "execution_count": 1,
   "metadata": {},
   "outputs": [],
   "source": [
    "import array as ar"
   ]
  },
  {
   "cell_type": "code",
   "execution_count": 2,
   "metadata": {},
   "outputs": [],
   "source": [
    "# Creamos un array\n",
    "vector = ar.array('i',[1,2,3,4,5,6,7,8,9,0])\n",
    "    # Con i indicamos al array que vamos a almacenar valores de tipo integer"
   ]
  },
  {
   "cell_type": "code",
   "execution_count": 3,
   "metadata": {},
   "outputs": [
    {
     "name": "stdout",
     "output_type": "stream",
     "text": [
      "array('i', [1, 2, 3, 4, 5, 6, 7, 8, 9, 0])\n"
     ]
    }
   ],
   "source": [
    "# Mostramos el contenido del vector\n",
    "print(vector)"
   ]
  },
  {
   "cell_type": "code",
   "execution_count": 7,
   "metadata": {},
   "outputs": [
    {
     "name": "stdout",
     "output_type": "stream",
     "text": [
      "1\n",
      "2\n",
      "3\n",
      "4\n",
      "5\n",
      "6\n",
      "7\n",
      "8\n",
      "9\n",
      "0\n"
     ]
    }
   ],
   "source": [
    "# Recorro el contenido del vector mostrando cada uno de sus valores\n",
    "for i in vector:\n",
    "    print(i)"
   ]
  }
 ],
 "metadata": {
  "kernelspec": {
   "display_name": "Python 3",
   "language": "python",
   "name": "python3"
  },
  "language_info": {
   "codemirror_mode": {
    "name": "ipython",
    "version": 3
   },
   "file_extension": ".py",
   "mimetype": "text/x-python",
   "name": "python",
   "nbconvert_exporter": "python",
   "pygments_lexer": "ipython3",
   "version": "3.11.5"
  }
 },
 "nbformat": 4,
 "nbformat_minor": 2
}
