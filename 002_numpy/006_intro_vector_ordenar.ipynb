{
 "cells": [
  {
   "cell_type": "code",
   "execution_count": 1,
   "metadata": {},
   "outputs": [],
   "source": [
    "import numpy as np"
   ]
  },
  {
   "cell_type": "code",
   "execution_count": 6,
   "metadata": {},
   "outputs": [
    {
     "name": "stdout",
     "output_type": "stream",
     "text": [
      "Vector desordenado\n",
      "[99 14  5  1 34 22 11]\n"
     ]
    }
   ],
   "source": [
    "# Creamos un array con elementos desordenados\n",
    "vector = np.array([99,14,5,1,34,22,11])\n",
    "print(\"Vector desordenado\")\n",
    "print(vector)"
   ]
  },
  {
   "cell_type": "code",
   "execution_count": 7,
   "metadata": {},
   "outputs": [
    {
     "name": "stdout",
     "output_type": "stream",
     "text": [
      "Vector ordenado\n",
      "[ 1  5 11 14 22 34 99]\n"
     ]
    }
   ],
   "source": [
    "# Ahora ordenamos el vector de menor a mayor\n",
    "vector = np.sort(vector)\n",
    "print(\"Vector ordenado\")\n",
    "print(vector)\n"
   ]
  }
 ],
 "metadata": {
  "kernelspec": {
   "display_name": "Python 3",
   "language": "python",
   "name": "python3"
  },
  "language_info": {
   "codemirror_mode": {
    "name": "ipython",
    "version": 3
   },
   "file_extension": ".py",
   "mimetype": "text/x-python",
   "name": "python",
   "nbconvert_exporter": "python",
   "pygments_lexer": "ipython3",
   "version": "3.11.5"
  }
 },
 "nbformat": 4,
 "nbformat_minor": 2
}
