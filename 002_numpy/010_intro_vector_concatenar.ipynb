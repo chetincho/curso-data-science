{
 "cells": [
  {
   "cell_type": "code",
   "execution_count": 3,
   "metadata": {},
   "outputs": [],
   "source": [
    "import numpy as np"
   ]
  },
  {
   "cell_type": "code",
   "execution_count": 6,
   "metadata": {},
   "outputs": [
    {
     "name": "stdout",
     "output_type": "stream",
     "text": [
      "Vector 1: [1 2 3 4 5]\n",
      "Vector 2: [51 52 53 54 55]\n"
     ]
    }
   ],
   "source": [
    "# Creamos dos array con elementos desordenados\n",
    "vector1 = np.array([1,2,3,4,5])\n",
    "vector2 = np.array([51,52,53,54,55])\n",
    "\n",
    "print(f\"Vector 1: {vector1}\")\n",
    "print(f\"Vector 2: {vector2}\")"
   ]
  },
  {
   "cell_type": "code",
   "execution_count": 7,
   "metadata": {},
   "outputs": [
    {
     "name": "stdout",
     "output_type": "stream",
     "text": [
      "Vector concatenado: [ 1  2  3  4  5 51 52 53 54 55]\n"
     ]
    }
   ],
   "source": [
    "# Ahora concatenamos ambos vectores\n",
    "vector3 = np.concatenate( (vector1,vector2) )\n",
    "\n",
    "print(f\"Vector concatenado: {vector3}\")"
   ]
  }
 ],
 "metadata": {
  "kernelspec": {
   "display_name": "Python 3",
   "language": "python",
   "name": "python3"
  },
  "language_info": {
   "codemirror_mode": {
    "name": "ipython",
    "version": 3
   },
   "file_extension": ".py",
   "mimetype": "text/x-python",
   "name": "python",
   "nbconvert_exporter": "python",
   "pygments_lexer": "ipython3",
   "version": "3.11.5"
  }
 },
 "nbformat": 4,
 "nbformat_minor": 2
}
