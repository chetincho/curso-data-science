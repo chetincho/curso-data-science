{
 "cells": [
  {
   "cell_type": "markdown",
   "metadata": {},
   "source": [
    "Luego de la etapa de análisis si llegamos a la conclusión que lo mas acorde para el modelo es eliminar los regisros duplicados podemos hacer uso del método __drop_duplicates__"
   ]
  },
  {
   "cell_type": "code",
   "execution_count": 8,
   "metadata": {},
   "outputs": [],
   "source": [
    "# Veamos un ejemplo.\n",
    "# Paso 1: Creamos un diccionario con valores repetidos.\n",
    "\n",
    "data =  {   'Nombre':['Juan', 'María', 'Ana', 'Juan', 'Juan', 'Pedro'],\n",
    "            'Edad':[25, 30, 22, 25, 999, 25],\n",
    "            'Ciudad':['México', 'Madrid', 'Buenos Aires', 'México', 'Meximo', 'Lima']\n",
    "        }"
   ]
  },
  {
   "cell_type": "code",
   "execution_count": 9,
   "metadata": {},
   "outputs": [
    {
     "name": "stdout",
     "output_type": "stream",
     "text": [
      "DataFrame original con valores repetidos\n",
      "========================================\n",
      "  Nombre  Edad        Ciudad\n",
      "0   Juan    25        México\n",
      "1  María    30        Madrid\n",
      "2    Ana    22  Buenos Aires\n",
      "3   Juan    25        México\n",
      "4   Juan   999        Meximo\n",
      "5  Pedro    25          Lima\n"
     ]
    }
   ],
   "source": [
    "# Paso 2: Creamos un DataFrame cuya data de origen es nuestro diccionario\n",
    "import pandas\n",
    "\n",
    "varDataFrame = pandas.DataFrame(data)\n",
    "print('DataFrame original con valores repetidos')\n",
    "print('========================================')\n",
    "print(varDataFrame)"
   ]
  },
  {
   "cell_type": "markdown",
   "metadata": {},
   "source": [
    "Las filas 0 y 3 tienen valores identicos en todas sus columnas mientras que en la fila 4 todos los valores son iguales a las anteriores excepto la columna edad. Veamos como funciona el método __drop_duplicates__"
   ]
  },
  {
   "cell_type": "code",
   "execution_count": 10,
   "metadata": {},
   "outputs": [
    {
     "name": "stdout",
     "output_type": "stream",
     "text": [
      "DataFrame sin duplicados\n",
      "========================\n",
      "  Nombre  Edad        Ciudad\n",
      "0   Juan    25        México\n",
      "1  María    30        Madrid\n",
      "2    Ana    22  Buenos Aires\n",
      "4   Juan   999        Meximo\n",
      "5  Pedro    25          Lima\n"
     ]
    }
   ],
   "source": [
    "# Paso 3: Aplicamos el método drop_duplicates para eliminar filas duplicadas\n",
    "varDataFrame_sin_duplicados = varDataFrame.drop_duplicates()\n",
    "print('DataFrame sin duplicados')\n",
    "print('========================')\n",
    "print(varDataFrame_sin_duplicados)\n",
    "\n",
    "# Como podes observar el método drop_duplicates utilizado de esta manera solo elimina aquellas filas donde \n",
    "# coincidan los valores de todas las columnas, en este caso, se eliminaron las filas 0 y 3"
   ]
  },
  {
   "cell_type": "markdown",
   "metadata": {},
   "source": [
    "Si queremos eliminar todas las filas considerando el contenido de determinadas columnas al metodo __drop_duplicates__ debemos sumarle el parametro __subset__"
   ]
  },
  {
   "cell_type": "code",
   "execution_count": 11,
   "metadata": {},
   "outputs": [
    {
     "name": "stdout",
     "output_type": "stream",
     "text": [
      "  Nombre  Edad        Ciudad\n",
      "0   Juan    25        México\n",
      "1  María    30        Madrid\n",
      "2    Ana    22  Buenos Aires\n",
      "5  Pedro    25          Lima\n"
     ]
    }
   ],
   "source": [
    "varDataFrame_sin_duplicados = varDataFrame.drop_duplicates(subset='Nombre')\n",
    "print('DataFrame sin duplicados (col Nombre)')\n",
    "print('=====================================')\n",
    "print(varDataFrame_sin_duplicados)\n",
    "\n",
    "# Como podes observar el método drop_duplicates elimino todas las filaes que tenian valores \n",
    "# en la columna nombre"
   ]
  }
 ],
 "metadata": {
  "kernelspec": {
   "display_name": "Python 3",
   "language": "python",
   "name": "python3"
  },
  "language_info": {
   "codemirror_mode": {
    "name": "ipython",
    "version": 3
   },
   "file_extension": ".py",
   "mimetype": "text/x-python",
   "name": "python",
   "nbconvert_exporter": "python",
   "pygments_lexer": "ipython3",
   "version": "3.11.5"
  }
 },
 "nbformat": 4,
 "nbformat_minor": 2
}
