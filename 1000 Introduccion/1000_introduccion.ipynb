{
 "cells": [
  {
   "cell_type": "code",
   "execution_count": 2,
   "metadata": {},
   "outputs": [
    {
     "name": "stderr",
     "output_type": "stream",
     "text": [
      "C:\\Users\\marti\\AppData\\Local\\Temp\\ipykernel_18604\\726520321.py:2: DeprecationWarning: \n",
      "Pyarrow will become a required dependency of pandas in the next major release of pandas (pandas 3.0),\n",
      "(to allow more performant data types, such as the Arrow string type, and better interoperability with other libraries)\n",
      "but was not found to be installed on your system.\n",
      "If this would cause problems for you,\n",
      "please provide us feedback at https://github.com/pandas-dev/pandas/issues/54466\n",
      "        \n",
      "  import pandas\n"
     ]
    }
   ],
   "source": [
    "# Paso 1: Importamos librerias \n",
    "import pandas\n",
    "import numpy"
   ]
  },
  {
   "cell_type": "markdown",
   "metadata": {},
   "source": [
    "### Opciones al momento de crear un DataFrame"
   ]
  },
  {
   "cell_type": "markdown",
   "metadata": {},
   "source": [
    "#### Opcion 1: Creamos un DataFrame usando numpy y arrays"
   ]
  },
  {
   "cell_type": "code",
   "execution_count": 3,
   "metadata": {},
   "outputs": [],
   "source": [
    "# Creamos un array\n",
    "varData = numpy.array([[1,\"Argentina\"],[2, \"Chile\"],[3,\"Uruguay\"]])"
   ]
  },
  {
   "cell_type": "code",
   "execution_count": 10,
   "metadata": {},
   "outputs": [],
   "source": [
    "# Creamos un DataFrame\n",
    "varDataFrame = pandas.DataFrame(varData, \n",
    "                                    index=['fila_1', 'fila_2', 'fila_3'],\n",
    "                                    columns=['Ranking','País']\n",
    "                                )"
   ]
  },
  {
   "cell_type": "code",
   "execution_count": 11,
   "metadata": {},
   "outputs": [
    {
     "data": {
      "text/html": [
       "<div>\n",
       "<style scoped>\n",
       "    .dataframe tbody tr th:only-of-type {\n",
       "        vertical-align: middle;\n",
       "    }\n",
       "\n",
       "    .dataframe tbody tr th {\n",
       "        vertical-align: top;\n",
       "    }\n",
       "\n",
       "    .dataframe thead th {\n",
       "        text-align: right;\n",
       "    }\n",
       "</style>\n",
       "<table border=\"1\" class=\"dataframe\">\n",
       "  <thead>\n",
       "    <tr style=\"text-align: right;\">\n",
       "      <th></th>\n",
       "      <th>Ranking</th>\n",
       "      <th>País</th>\n",
       "    </tr>\n",
       "  </thead>\n",
       "  <tbody>\n",
       "    <tr>\n",
       "      <th>fila_1</th>\n",
       "      <td>1</td>\n",
       "      <td>Argentina</td>\n",
       "    </tr>\n",
       "    <tr>\n",
       "      <th>fila_2</th>\n",
       "      <td>2</td>\n",
       "      <td>Chile</td>\n",
       "    </tr>\n",
       "    <tr>\n",
       "      <th>fila_3</th>\n",
       "      <td>3</td>\n",
       "      <td>Uruguay</td>\n",
       "    </tr>\n",
       "  </tbody>\n",
       "</table>\n",
       "</div>"
      ],
      "text/plain": [
       "       Ranking       País\n",
       "fila_1       1  Argentina\n",
       "fila_2       2      Chile\n",
       "fila_3       3    Uruguay"
      ]
     },
     "execution_count": 11,
     "metadata": {},
     "output_type": "execute_result"
    }
   ],
   "source": [
    "# Mostramos el contenido del DataFrame\n",
    "varDataFrame"
   ]
  },
  {
   "cell_type": "markdown",
   "metadata": {},
   "source": [
    "#### Opcion 2: Creamos un DataFrame usando solo listas"
   ]
  },
  {
   "cell_type": "code",
   "execution_count": 14,
   "metadata": {},
   "outputs": [],
   "source": [
    "# Creamos una lista\n",
    "varLista = [[1,\"Argentina\"],[2, \"Chile\"],[3,\"Uruguay\"]]"
   ]
  },
  {
   "cell_type": "code",
   "execution_count": 15,
   "metadata": {},
   "outputs": [],
   "source": [
    "# Creamos un DataFrame\n",
    "varDataFrame = pandas.DataFrame(varLista, \n",
    "                                    index=['fila_1', 'fila_2', 'fila_3'],\n",
    "                                    columns=['Ranking','País']\n",
    "                                )"
   ]
  },
  {
   "cell_type": "code",
   "execution_count": 16,
   "metadata": {},
   "outputs": [
    {
     "data": {
      "text/html": [
       "<div>\n",
       "<style scoped>\n",
       "    .dataframe tbody tr th:only-of-type {\n",
       "        vertical-align: middle;\n",
       "    }\n",
       "\n",
       "    .dataframe tbody tr th {\n",
       "        vertical-align: top;\n",
       "    }\n",
       "\n",
       "    .dataframe thead th {\n",
       "        text-align: right;\n",
       "    }\n",
       "</style>\n",
       "<table border=\"1\" class=\"dataframe\">\n",
       "  <thead>\n",
       "    <tr style=\"text-align: right;\">\n",
       "      <th></th>\n",
       "      <th>Ranking</th>\n",
       "      <th>País</th>\n",
       "    </tr>\n",
       "  </thead>\n",
       "  <tbody>\n",
       "    <tr>\n",
       "      <th>fila_1</th>\n",
       "      <td>1</td>\n",
       "      <td>Argentina</td>\n",
       "    </tr>\n",
       "    <tr>\n",
       "      <th>fila_2</th>\n",
       "      <td>2</td>\n",
       "      <td>Chile</td>\n",
       "    </tr>\n",
       "    <tr>\n",
       "      <th>fila_3</th>\n",
       "      <td>3</td>\n",
       "      <td>Uruguay</td>\n",
       "    </tr>\n",
       "  </tbody>\n",
       "</table>\n",
       "</div>"
      ],
      "text/plain": [
       "        Ranking       País\n",
       "fila_1        1  Argentina\n",
       "fila_2        2      Chile\n",
       "fila_3        3    Uruguay"
      ]
     },
     "execution_count": 16,
     "metadata": {},
     "output_type": "execute_result"
    }
   ],
   "source": [
    "# Mostramos el contenido del DataFrame\n",
    "varDataFrame"
   ]
  },
  {
   "cell_type": "markdown",
   "metadata": {},
   "source": [
    "#### Opcion 3: Creamos un DataFrame usando solo Diccionarios"
   ]
  },
  {
   "cell_type": "code",
   "execution_count": 27,
   "metadata": {},
   "outputs": [],
   "source": [
    "# Creamos las listas (estas serían las filas) que contendran los valores de mi DataFrame\n",
    "varPaises = ['China','India','Estados Unidos','Indonesia','Pakistán','Brasil']\n",
    "varPoblacion = [1441,1393,332,276,225,213]"
   ]
  },
  {
   "cell_type": "code",
   "execution_count": 28,
   "metadata": {},
   "outputs": [],
   "source": [
    "# Creamos un diccionario el cual va a contener las listas antes definidas\n",
    "varDiccionario = {\n",
    "                    'País':varPaises,\n",
    "                    'Poblacion en Millones':varPoblacion\n",
    "                 }"
   ]
  },
  {
   "cell_type": "code",
   "execution_count": 29,
   "metadata": {},
   "outputs": [],
   "source": [
    "# Creamos un DataFrame\n",
    "varDataFrame = pandas.DataFrame(varDiccionario)"
   ]
  },
  {
   "cell_type": "code",
   "execution_count": 30,
   "metadata": {},
   "outputs": [
    {
     "data": {
      "text/html": [
       "<div>\n",
       "<style scoped>\n",
       "    .dataframe tbody tr th:only-of-type {\n",
       "        vertical-align: middle;\n",
       "    }\n",
       "\n",
       "    .dataframe tbody tr th {\n",
       "        vertical-align: top;\n",
       "    }\n",
       "\n",
       "    .dataframe thead th {\n",
       "        text-align: right;\n",
       "    }\n",
       "</style>\n",
       "<table border=\"1\" class=\"dataframe\">\n",
       "  <thead>\n",
       "    <tr style=\"text-align: right;\">\n",
       "      <th></th>\n",
       "      <th>País</th>\n",
       "      <th>Poblacion en Millones</th>\n",
       "    </tr>\n",
       "  </thead>\n",
       "  <tbody>\n",
       "    <tr>\n",
       "      <th>0</th>\n",
       "      <td>China</td>\n",
       "      <td>1441</td>\n",
       "    </tr>\n",
       "    <tr>\n",
       "      <th>1</th>\n",
       "      <td>India</td>\n",
       "      <td>1393</td>\n",
       "    </tr>\n",
       "    <tr>\n",
       "      <th>2</th>\n",
       "      <td>Estados Unidos</td>\n",
       "      <td>332</td>\n",
       "    </tr>\n",
       "    <tr>\n",
       "      <th>3</th>\n",
       "      <td>Indonesia</td>\n",
       "      <td>276</td>\n",
       "    </tr>\n",
       "    <tr>\n",
       "      <th>4</th>\n",
       "      <td>Pakistán</td>\n",
       "      <td>225</td>\n",
       "    </tr>\n",
       "    <tr>\n",
       "      <th>5</th>\n",
       "      <td>Brasil</td>\n",
       "      <td>213</td>\n",
       "    </tr>\n",
       "  </tbody>\n",
       "</table>\n",
       "</div>"
      ],
      "text/plain": [
       "             País  Poblacion en Millones\n",
       "0           China                   1441\n",
       "1           India                   1393\n",
       "2  Estados Unidos                    332\n",
       "3       Indonesia                    276\n",
       "4        Pakistán                    225\n",
       "5          Brasil                    213"
      ]
     },
     "execution_count": 30,
     "metadata": {},
     "output_type": "execute_result"
    }
   ],
   "source": [
    "# Mostramos el contenido del DataFrame\n",
    "varDataFrame"
   ]
  },
  {
   "cell_type": "markdown",
   "metadata": {},
   "source": [
    "#### Opcion 4: Creamos un DataFrame usando un archivo csv con data"
   ]
  },
  {
   "cell_type": "code",
   "execution_count": 5,
   "metadata": {},
   "outputs": [],
   "source": [
    "# vamos a leer el contenido del archivo csv, para que funcione es importante que el archivo csv este en el mismo directorio donde esta este archivo de jupiter notebook\n",
    "# si queres importar otro dataset reemplaza el nombre \"data_historico_coti_btc.csv\" por el nombre de tu archivo csv\n",
    "varDataFrame = pandas.read_csv('data_historico_coti_btc.csv')"
   ]
  },
  {
   "cell_type": "code",
   "execution_count": 4,
   "metadata": {},
   "outputs": [
    {
     "data": {
      "text/html": [
       "<div>\n",
       "<style scoped>\n",
       "    .dataframe tbody tr th:only-of-type {\n",
       "        vertical-align: middle;\n",
       "    }\n",
       "\n",
       "    .dataframe tbody tr th {\n",
       "        vertical-align: top;\n",
       "    }\n",
       "\n",
       "    .dataframe thead th {\n",
       "        text-align: right;\n",
       "    }\n",
       "</style>\n",
       "<table border=\"1\" class=\"dataframe\">\n",
       "  <thead>\n",
       "    <tr style=\"text-align: right;\">\n",
       "      <th></th>\n",
       "      <th>Fecha</th>\n",
       "      <th>Último</th>\n",
       "      <th>Apertura</th>\n",
       "      <th>Máximo</th>\n",
       "      <th>Mínimo</th>\n",
       "      <th>Vol.</th>\n",
       "      <th>% var.</th>\n",
       "    </tr>\n",
       "  </thead>\n",
       "  <tbody>\n",
       "    <tr>\n",
       "      <th>0</th>\n",
       "      <td>29.01.2024</td>\n",
       "      <td>43.103,6</td>\n",
       "      <td>42.031,4</td>\n",
       "      <td>43.301,9</td>\n",
       "      <td>41.824,7</td>\n",
       "      <td>44,72K</td>\n",
       "      <td>2,55%</td>\n",
       "    </tr>\n",
       "    <tr>\n",
       "      <th>1</th>\n",
       "      <td>28.01.2024</td>\n",
       "      <td>42.030,7</td>\n",
       "      <td>42.121,3</td>\n",
       "      <td>42.817,1</td>\n",
       "      <td>41.649,0</td>\n",
       "      <td>32,53K</td>\n",
       "      <td>-0,21%</td>\n",
       "    </tr>\n",
       "    <tr>\n",
       "      <th>2</th>\n",
       "      <td>27.01.2024</td>\n",
       "      <td>42.120,9</td>\n",
       "      <td>41.811,5</td>\n",
       "      <td>42.191,8</td>\n",
       "      <td>41.413,0</td>\n",
       "      <td>20,46K</td>\n",
       "      <td>0,74%</td>\n",
       "    </tr>\n",
       "    <tr>\n",
       "      <th>3</th>\n",
       "      <td>26.01.2024</td>\n",
       "      <td>41.811,3</td>\n",
       "      <td>39.942,0</td>\n",
       "      <td>42.214,8</td>\n",
       "      <td>39.831,2</td>\n",
       "      <td>69,47K</td>\n",
       "      <td>4,70%</td>\n",
       "    </tr>\n",
       "    <tr>\n",
       "      <th>4</th>\n",
       "      <td>25.01.2024</td>\n",
       "      <td>39.935,7</td>\n",
       "      <td>40.085,1</td>\n",
       "      <td>40.285,8</td>\n",
       "      <td>39.546,3</td>\n",
       "      <td>46,30K</td>\n",
       "      <td>-0,37%</td>\n",
       "    </tr>\n",
       "    <tr>\n",
       "      <th>...</th>\n",
       "      <td>...</td>\n",
       "      <td>...</td>\n",
       "      <td>...</td>\n",
       "      <td>...</td>\n",
       "      <td>...</td>\n",
       "      <td>...</td>\n",
       "      <td>...</td>\n",
       "    </tr>\n",
       "    <tr>\n",
       "      <th>4939</th>\n",
       "      <td>22.07.2010</td>\n",
       "      <td>0,1</td>\n",
       "      <td>0,1</td>\n",
       "      <td>0,1</td>\n",
       "      <td>0,1</td>\n",
       "      <td>2,16K</td>\n",
       "      <td>0,00%</td>\n",
       "    </tr>\n",
       "    <tr>\n",
       "      <th>4940</th>\n",
       "      <td>21.07.2010</td>\n",
       "      <td>0,1</td>\n",
       "      <td>0,1</td>\n",
       "      <td>0,1</td>\n",
       "      <td>0,1</td>\n",
       "      <td>0,58K</td>\n",
       "      <td>0,00%</td>\n",
       "    </tr>\n",
       "    <tr>\n",
       "      <th>4941</th>\n",
       "      <td>20.07.2010</td>\n",
       "      <td>0,1</td>\n",
       "      <td>0,1</td>\n",
       "      <td>0,1</td>\n",
       "      <td>0,1</td>\n",
       "      <td>0,26K</td>\n",
       "      <td>0,00%</td>\n",
       "    </tr>\n",
       "    <tr>\n",
       "      <th>4942</th>\n",
       "      <td>19.07.2010</td>\n",
       "      <td>0,1</td>\n",
       "      <td>0,1</td>\n",
       "      <td>0,1</td>\n",
       "      <td>0,1</td>\n",
       "      <td>0,57K</td>\n",
       "      <td>0,00%</td>\n",
       "    </tr>\n",
       "    <tr>\n",
       "      <th>4943</th>\n",
       "      <td>18.07.2010</td>\n",
       "      <td>0,1</td>\n",
       "      <td>0,0</td>\n",
       "      <td>0,1</td>\n",
       "      <td>0,1</td>\n",
       "      <td>0,08K</td>\n",
       "      <td>0,00%</td>\n",
       "    </tr>\n",
       "  </tbody>\n",
       "</table>\n",
       "<p>4944 rows × 7 columns</p>\n",
       "</div>"
      ],
      "text/plain": [
       "           Fecha    Último  Apertura    Máximo    Mínimo    Vol.  % var.\n",
       "0     29.01.2024  43.103,6  42.031,4  43.301,9  41.824,7  44,72K   2,55%\n",
       "1     28.01.2024  42.030,7  42.121,3  42.817,1  41.649,0  32,53K  -0,21%\n",
       "2     27.01.2024  42.120,9  41.811,5  42.191,8  41.413,0  20,46K   0,74%\n",
       "3     26.01.2024  41.811,3  39.942,0  42.214,8  39.831,2  69,47K   4,70%\n",
       "4     25.01.2024  39.935,7  40.085,1  40.285,8  39.546,3  46,30K  -0,37%\n",
       "...          ...       ...       ...       ...       ...     ...     ...\n",
       "4939  22.07.2010       0,1       0,1       0,1       0,1   2,16K   0,00%\n",
       "4940  21.07.2010       0,1       0,1       0,1       0,1   0,58K   0,00%\n",
       "4941  20.07.2010       0,1       0,1       0,1       0,1   0,26K   0,00%\n",
       "4942  19.07.2010       0,1       0,1       0,1       0,1   0,57K   0,00%\n",
       "4943  18.07.2010       0,1       0,0       0,1       0,1   0,08K   0,00%\n",
       "\n",
       "[4944 rows x 7 columns]"
      ]
     },
     "execution_count": 4,
     "metadata": {},
     "output_type": "execute_result"
    }
   ],
   "source": [
    "# Mostramos el contenido del DataFrame\n",
    "varDataFrame"
   ]
  }
 ],
 "metadata": {
  "kernelspec": {
   "display_name": "Python 3",
   "language": "python",
   "name": "python3"
  },
  "language_info": {
   "codemirror_mode": {
    "name": "ipython",
    "version": 3
   },
   "file_extension": ".py",
   "mimetype": "text/x-python",
   "name": "python",
   "nbconvert_exporter": "python",
   "pygments_lexer": "ipython3",
   "version": "3.11.5"
  }
 },
 "nbformat": 4,
 "nbformat_minor": 2
}
