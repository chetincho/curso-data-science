{
 "cells": [
  {
   "cell_type": "code",
   "execution_count": 1,
   "metadata": {},
   "outputs": [
    {
     "name": "stderr",
     "output_type": "stream",
     "text": [
      "C:\\Users\\marti\\AppData\\Local\\Temp\\ipykernel_19036\\726520321.py:2: DeprecationWarning: \n",
      "Pyarrow will become a required dependency of pandas in the next major release of pandas (pandas 3.0),\n",
      "(to allow more performant data types, such as the Arrow string type, and better interoperability with other libraries)\n",
      "but was not found to be installed on your system.\n",
      "If this would cause problems for you,\n",
      "please provide us feedback at https://github.com/pandas-dev/pandas/issues/54466\n",
      "        \n",
      "  import pandas\n"
     ]
    }
   ],
   "source": [
    "# Paso 1: Importamos librerias \n",
    "import pandas\n",
    "import numpy"
   ]
  },
  {
   "cell_type": "markdown",
   "metadata": {},
   "source": [
    "### Atributos, funciones y métodos básicos"
   ]
  },
  {
   "cell_type": "markdown",
   "metadata": {},
   "source": [
    "#### Paso 1: Cargamos el DataFrame en memoria a partir de un archivo csv"
   ]
  },
  {
   "cell_type": "code",
   "execution_count": 2,
   "metadata": {},
   "outputs": [],
   "source": [
    "# vamos a leer el contenido del archivo csv, para que funcione es importante que el archivo csv este en el mismo directorio que esta notebook\n",
    "varDataFrame = pandas.read_csv('BTC-USD.csv')"
   ]
  },
  {
   "cell_type": "markdown",
   "metadata": {},
   "source": [
    "#### Definiciones:"
   ]
  },
  {
   "cell_type": "markdown",
   "metadata": {},
   "source": [
    "#### Atributos: Es un valor asociado a un objeto el cual esta referenciado por un punto. Dicho en otras palabras, los atributos de un DataFrame son las columnas que lo componen"
   ]
  },
  {
   "cell_type": "code",
   "execution_count": 3,
   "metadata": {},
   "outputs": [
    {
     "data": {
      "text/plain": [
       "Index(['Date', 'Open', 'High', 'Low', 'Close', 'Adj Close', 'Volume'], dtype='object')"
      ]
     },
     "execution_count": 3,
     "metadata": {},
     "output_type": "execute_result"
    }
   ],
   "source": [
    "varDataFrame.columns    # Nos muestra todas las columnas del DataFrame"
   ]
  },
  {
   "cell_type": "code",
   "execution_count": 4,
   "metadata": {},
   "outputs": [
    {
     "data": {
      "text/plain": [
       "0         468.174011\n",
       "1         456.859985\n",
       "2         427.834991\n",
       "3         423.295990\n",
       "4         412.425995\n",
       "            ...     \n",
       "3422    43838.945313\n",
       "3423    43717.406250\n",
       "3424    43243.167969\n",
       "3425    43422.488281\n",
       "3426             NaN\n",
       "Name: High, Length: 3427, dtype: float64"
      ]
     },
     "execution_count": 4,
     "metadata": {},
     "output_type": "execute_result"
    }
   ],
   "source": [
    "varDataFrame.High     # Nos muestra solo el contenido de la columna indicada. Esta manera de consultar no es la mas indicada"
   ]
  },
  {
   "cell_type": "code",
   "execution_count": 5,
   "metadata": {},
   "outputs": [
    {
     "data": {
      "text/plain": [
       "0         468.174011\n",
       "1         456.859985\n",
       "2         427.834991\n",
       "3         423.295990\n",
       "4         412.425995\n",
       "            ...     \n",
       "3422    43838.945313\n",
       "3423    43717.406250\n",
       "3424    43243.167969\n",
       "3425    43422.488281\n",
       "3426             NaN\n",
       "Name: High, Length: 3427, dtype: float64"
      ]
     },
     "execution_count": 5,
     "metadata": {},
     "output_type": "execute_result"
    }
   ],
   "source": [
    "varDataFrame['High']   # Esta es la forma más recomendada de consultar una columna, dado que al parametrizar el nombre de la columna como una cadena de caracteres se contemplan los espacios y los caracteres especiales como el símbolo de porcentaje"
   ]
  },
  {
   "cell_type": "code",
   "execution_count": 6,
   "metadata": {},
   "outputs": [
    {
     "data": {
      "text/plain": [
       "(3427, 7)"
      ]
     },
     "execution_count": 6,
     "metadata": {},
     "output_type": "execute_result"
    }
   ],
   "source": [
    "varDataFrame.shape              # Nos muestra la cantidad de filas y columnas que tiene nuestro DataFrame"
   ]
  },
  {
   "cell_type": "code",
   "execution_count": 7,
   "metadata": {},
   "outputs": [
    {
     "data": {
      "text/plain": [
       "RangeIndex(start=0, stop=3427, step=1)"
      ]
     },
     "execution_count": 7,
     "metadata": {},
     "output_type": "execute_result"
    }
   ],
   "source": [
    "varDataFrame.index              # Nos muestra información relativa a cómo esta conformado el índice de nuestro DataFrame, en este caso es un rango de valores que va de 0 a 4944 pasando de 1 en 1"
   ]
  },
  {
   "cell_type": "code",
   "execution_count": 8,
   "metadata": {},
   "outputs": [
    {
     "data": {
      "text/plain": [
       "Date          object\n",
       "Open         float64\n",
       "High         float64\n",
       "Low          float64\n",
       "Close        float64\n",
       "Adj Close    float64\n",
       "Volume       float64\n",
       "dtype: object"
      ]
     },
     "execution_count": 8,
     "metadata": {},
     "output_type": "execute_result"
    }
   ],
   "source": [
    "varDataFrame.dtypes             # Nos muestra el tipo de dato de cada columna"
   ]
  },
  {
   "cell_type": "markdown",
   "metadata": {},
   "source": [
    "#### Métodos: Es una función que es definida dentro del cuerpo de una clase"
   ]
  },
  {
   "cell_type": "code",
   "execution_count": 9,
   "metadata": {},
   "outputs": [
    {
     "name": "stdout",
     "output_type": "stream",
     "text": [
      "<class 'pandas.core.frame.DataFrame'>\n",
      "RangeIndex: 3427 entries, 0 to 3426\n",
      "Data columns (total 7 columns):\n",
      " #   Column     Non-Null Count  Dtype  \n",
      "---  ------     --------------  -----  \n",
      " 0   Date       3427 non-null   object \n",
      " 1   Open       3426 non-null   float64\n",
      " 2   High       3426 non-null   float64\n",
      " 3   Low        3426 non-null   float64\n",
      " 4   Close      3426 non-null   float64\n",
      " 5   Adj Close  3426 non-null   float64\n",
      " 6   Volume     3426 non-null   float64\n",
      "dtypes: float64(6), object(1)\n",
      "memory usage: 187.5+ KB\n"
     ]
    }
   ],
   "source": [
    "varDataFrame.info()             # Nos muestra información básica de nuestro DataFrame, por lo general se utiliza para determinar si nuesto df contiene o no datos nulos."
   ]
  },
  {
   "cell_type": "code",
   "execution_count": 10,
   "metadata": {},
   "outputs": [
    {
     "data": {
      "text/html": [
       "<div>\n",
       "<style scoped>\n",
       "    .dataframe tbody tr th:only-of-type {\n",
       "        vertical-align: middle;\n",
       "    }\n",
       "\n",
       "    .dataframe tbody tr th {\n",
       "        vertical-align: top;\n",
       "    }\n",
       "\n",
       "    .dataframe thead th {\n",
       "        text-align: right;\n",
       "    }\n",
       "</style>\n",
       "<table border=\"1\" class=\"dataframe\">\n",
       "  <thead>\n",
       "    <tr style=\"text-align: right;\">\n",
       "      <th></th>\n",
       "      <th>Open</th>\n",
       "      <th>High</th>\n",
       "      <th>Low</th>\n",
       "      <th>Close</th>\n",
       "      <th>Adj Close</th>\n",
       "      <th>Volume</th>\n",
       "    </tr>\n",
       "  </thead>\n",
       "  <tbody>\n",
       "    <tr>\n",
       "      <th>count</th>\n",
       "      <td>3426.000000</td>\n",
       "      <td>3426.000000</td>\n",
       "      <td>3426.000000</td>\n",
       "      <td>3426.000000</td>\n",
       "      <td>3426.000000</td>\n",
       "      <td>3.426000e+03</td>\n",
       "    </tr>\n",
       "    <tr>\n",
       "      <th>mean</th>\n",
       "      <td>14844.983333</td>\n",
       "      <td>15190.603565</td>\n",
       "      <td>14472.970532</td>\n",
       "      <td>14856.142586</td>\n",
       "      <td>14856.142586</td>\n",
       "      <td>1.664234e+10</td>\n",
       "    </tr>\n",
       "    <tr>\n",
       "      <th>std</th>\n",
       "      <td>16345.789583</td>\n",
       "      <td>16735.443738</td>\n",
       "      <td>15909.755016</td>\n",
       "      <td>16348.222496</td>\n",
       "      <td>16348.222496</td>\n",
       "      <td>1.904475e+10</td>\n",
       "    </tr>\n",
       "    <tr>\n",
       "      <th>min</th>\n",
       "      <td>176.897003</td>\n",
       "      <td>211.731003</td>\n",
       "      <td>171.509995</td>\n",
       "      <td>178.102997</td>\n",
       "      <td>178.102997</td>\n",
       "      <td>5.914570e+06</td>\n",
       "    </tr>\n",
       "    <tr>\n",
       "      <th>25%</th>\n",
       "      <td>923.028519</td>\n",
       "      <td>947.978745</td>\n",
       "      <td>917.340485</td>\n",
       "      <td>926.804230</td>\n",
       "      <td>926.804230</td>\n",
       "      <td>1.740438e+08</td>\n",
       "    </tr>\n",
       "    <tr>\n",
       "      <th>50%</th>\n",
       "      <td>8321.371093</td>\n",
       "      <td>8522.882812</td>\n",
       "      <td>8143.933594</td>\n",
       "      <td>8321.381348</td>\n",
       "      <td>8321.381348</td>\n",
       "      <td>1.188649e+10</td>\n",
       "    </tr>\n",
       "    <tr>\n",
       "      <th>75%</th>\n",
       "      <td>24999.604492</td>\n",
       "      <td>25877.554199</td>\n",
       "      <td>24509.110351</td>\n",
       "      <td>25106.704101</td>\n",
       "      <td>25106.704101</td>\n",
       "      <td>2.694028e+10</td>\n",
       "    </tr>\n",
       "    <tr>\n",
       "      <th>max</th>\n",
       "      <td>67549.734375</td>\n",
       "      <td>68789.625000</td>\n",
       "      <td>66382.062500</td>\n",
       "      <td>67566.828125</td>\n",
       "      <td>67566.828125</td>\n",
       "      <td>3.509679e+11</td>\n",
       "    </tr>\n",
       "  </tbody>\n",
       "</table>\n",
       "</div>"
      ],
      "text/plain": [
       "               Open          High           Low         Close     Adj Close  \\\n",
       "count   3426.000000   3426.000000   3426.000000   3426.000000   3426.000000   \n",
       "mean   14844.983333  15190.603565  14472.970532  14856.142586  14856.142586   \n",
       "std    16345.789583  16735.443738  15909.755016  16348.222496  16348.222496   \n",
       "min      176.897003    211.731003    171.509995    178.102997    178.102997   \n",
       "25%      923.028519    947.978745    917.340485    926.804230    926.804230   \n",
       "50%     8321.371093   8522.882812   8143.933594   8321.381348   8321.381348   \n",
       "75%    24999.604492  25877.554199  24509.110351  25106.704101  25106.704101   \n",
       "max    67549.734375  68789.625000  66382.062500  67566.828125  67566.828125   \n",
       "\n",
       "             Volume  \n",
       "count  3.426000e+03  \n",
       "mean   1.664234e+10  \n",
       "std    1.904475e+10  \n",
       "min    5.914570e+06  \n",
       "25%    1.740438e+08  \n",
       "50%    1.188649e+10  \n",
       "75%    2.694028e+10  \n",
       "max    3.509679e+11  "
      ]
     },
     "execution_count": 10,
     "metadata": {},
     "output_type": "execute_result"
    }
   ],
   "source": [
    "varDataFrame.describe()         # Nos muestra valores estadísticos del DataFrame"
   ]
  },
  {
   "cell_type": "markdown",
   "metadata": {},
   "source": [
    "#### Funciones: Es un grupo de sentencias relacionadas que hacen una tarea específica."
   ]
  },
  {
   "cell_type": "code",
   "execution_count": 13,
   "metadata": {},
   "outputs": [
    {
     "name": "stdout",
     "output_type": "stream",
     "text": [
      "<class 'pandas.core.frame.DataFrame'>\n",
      "RangeIndex: 3427 entries, 0 to 3426\n",
      "Data columns (total 7 columns):\n",
      " #   Column     Non-Null Count  Dtype  \n",
      "---  ------     --------------  -----  \n",
      " 0   Date       3427 non-null   object \n",
      " 1   Open       3426 non-null   float64\n",
      " 2   High       3426 non-null   float64\n",
      " 3   Low        3426 non-null   float64\n",
      " 4   Close      3426 non-null   float64\n",
      " 5   Adj Close  3426 non-null   float64\n",
      " 6   Volume     3426 non-null   float64\n",
      "dtypes: float64(6), object(1)\n",
      "memory usage: 187.5+ KB\n"
     ]
    }
   ],
   "source": [
    "\n",
    "varDataFrame.info()     # Muestra información sobre las columnas, tipos de datos y valores no nulos."
   ]
  },
  {
   "cell_type": "code",
   "execution_count": 11,
   "metadata": {},
   "outputs": [
    {
     "data": {
      "text/plain": [
       "(3427, 7)"
      ]
     },
     "execution_count": 11,
     "metadata": {},
     "output_type": "execute_result"
    }
   ],
   "source": [
    "varDataFrame.shape      # Devuelve una tupla que representa el número de filas y columnas."
   ]
  },
  {
   "cell_type": "code",
   "execution_count": 12,
   "metadata": {},
   "outputs": [
    {
     "data": {
      "text/plain": [
       "3427"
      ]
     },
     "execution_count": 12,
     "metadata": {},
     "output_type": "execute_result"
    }
   ],
   "source": [
    "len(varDataFrame)       # Nos dice el tamaño del DataFrame (total de filas)"
   ]
  },
  {
   "cell_type": "code",
   "execution_count": 13,
   "metadata": {},
   "outputs": [
    {
     "data": {
      "text/plain": [
       "3426"
      ]
     },
     "execution_count": 13,
     "metadata": {},
     "output_type": "execute_result"
    }
   ],
   "source": [
    "max(varDataFrame.index) # Nos dice el valor máximo del DataFrame segun la columna que parametricemos"
   ]
  },
  {
   "cell_type": "code",
   "execution_count": 14,
   "metadata": {},
   "outputs": [
    {
     "data": {
      "text/plain": [
       "0"
      ]
     },
     "execution_count": 14,
     "metadata": {},
     "output_type": "execute_result"
    }
   ],
   "source": [
    "min(varDataFrame.index) # Nos dice el valor mínimo del DataFrame segun la columna que parametricemos"
   ]
  }
 ],
 "metadata": {
  "kernelspec": {
   "display_name": "Python 3",
   "language": "python",
   "name": "python3"
  },
  "language_info": {
   "codemirror_mode": {
    "name": "ipython",
    "version": 3
   },
   "file_extension": ".py",
   "mimetype": "text/x-python",
   "name": "python",
   "nbconvert_exporter": "python",
   "pygments_lexer": "ipython3",
   "version": "3.11.5"
  }
 },
 "nbformat": 4,
 "nbformat_minor": 2
}
