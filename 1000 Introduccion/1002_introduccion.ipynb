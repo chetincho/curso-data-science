{
 "cells": [
  {
   "cell_type": "code",
   "execution_count": 1,
   "metadata": {},
   "outputs": [
    {
     "name": "stderr",
     "output_type": "stream",
     "text": [
      "C:\\Users\\marti\\AppData\\Local\\Temp\\ipykernel_6296\\726520321.py:2: DeprecationWarning: \n",
      "Pyarrow will become a required dependency of pandas in the next major release of pandas (pandas 3.0),\n",
      "(to allow more performant data types, such as the Arrow string type, and better interoperability with other libraries)\n",
      "but was not found to be installed on your system.\n",
      "If this would cause problems for you,\n",
      "please provide us feedback at https://github.com/pandas-dev/pandas/issues/54466\n",
      "        \n",
      "  import pandas\n"
     ]
    }
   ],
   "source": [
    "# Paso 1: Importamos librerias \n",
    "import pandas\n",
    "import numpy"
   ]
  },
  {
   "cell_type": "markdown",
   "metadata": {},
   "source": [
    "### Atributos, funciones y métodos básicos"
   ]
  },
  {
   "cell_type": "markdown",
   "metadata": {},
   "source": [
    "#### Paso 1: Cargamos el DataFrame en memoria a partir de un archivo csv"
   ]
  },
  {
   "cell_type": "code",
   "execution_count": 2,
   "metadata": {},
   "outputs": [],
   "source": [
    "# vamos a leer el contenido del archivo csv, para que funcione es importante que el archivo csv este en el mismo directorio que esta notebook\n",
    "varDataFrame = pandas.read_csv('BTC-USD.csv')"
   ]
  },
  {
   "cell_type": "markdown",
   "metadata": {},
   "source": [
    "#### Definiciones:"
   ]
  },
  {
   "cell_type": "markdown",
   "metadata": {},
   "source": [
    "#### Atributos: Es un valor asociado a un objeto el cual esta referenciado por un punto. Dicho en otras palabras, los atributos de un DataFrame son las columnas que lo componen"
   ]
  },
  {
   "cell_type": "code",
   "execution_count": 35,
   "metadata": {},
   "outputs": [
    {
     "data": {
      "text/plain": [
       "Index(['Fecha', 'Último', 'Apertura', 'Máximo', 'Mínimo', 'Vol.', '% var.'], dtype='object')"
      ]
     },
     "execution_count": 35,
     "metadata": {},
     "output_type": "execute_result"
    }
   ],
   "source": [
    "varDataFrame.columns    # Nos muestra todas las columnas del DataFrame"
   ]
  },
  {
   "cell_type": "code",
   "execution_count": 17,
   "metadata": {},
   "outputs": [
    {
     "data": {
      "text/plain": [
       "0       43.301,9\n",
       "1       42.817,1\n",
       "2       42.191,8\n",
       "3       42.214,8\n",
       "4       40.285,8\n",
       "          ...   \n",
       "4939         0,1\n",
       "4940         0,1\n",
       "4941         0,1\n",
       "4942         0,1\n",
       "4943         0,1\n",
       "Name: Máximo, Length: 4944, dtype: object"
      ]
     },
     "execution_count": 17,
     "metadata": {},
     "output_type": "execute_result"
    }
   ],
   "source": [
    "varDataFrame.Máximo     # Nos muestra solo el contenido de la columna indicada. Esta manera de consultar no es la mas indicada"
   ]
  },
  {
   "cell_type": "code",
   "execution_count": 18,
   "metadata": {},
   "outputs": [
    {
     "data": {
      "text/plain": [
       "0        2,55%\n",
       "1       -0,21%\n",
       "2        0,74%\n",
       "3        4,70%\n",
       "4       -0,37%\n",
       "         ...  \n",
       "4939     0,00%\n",
       "4940     0,00%\n",
       "4941     0,00%\n",
       "4942     0,00%\n",
       "4943     0,00%\n",
       "Name: % var., Length: 4944, dtype: object"
      ]
     },
     "execution_count": 18,
     "metadata": {},
     "output_type": "execute_result"
    }
   ],
   "source": [
    "varDataFrame['% var.']   # Esta es la forma mas recomendada de consultar una columna, dado que al parametrizar el nombre de la columna como una cadena de caracteres se contemplan los espacios y los caracteres especiales como el símbolo de porcentaje"
   ]
  },
  {
   "cell_type": "code",
   "execution_count": 13,
   "metadata": {},
   "outputs": [
    {
     "data": {
      "text/plain": [
       "(4944, 7)"
      ]
     },
     "execution_count": 13,
     "metadata": {},
     "output_type": "execute_result"
    }
   ],
   "source": [
    "varDataFrame.shape              # Nos muestra la cantidad de filas y columnas que tiene nuestro DataFrame"
   ]
  },
  {
   "cell_type": "code",
   "execution_count": 34,
   "metadata": {},
   "outputs": [
    {
     "data": {
      "text/plain": [
       "RangeIndex(start=0, stop=4944, step=1)"
      ]
     },
     "execution_count": 34,
     "metadata": {},
     "output_type": "execute_result"
    }
   ],
   "source": [
    "varDataFrame.index              # Nos muestra información relativa a cómo esta conformado el índice de nuestro DataFrame, en este caso es un rango de valores que va de 0 a 4944 pasando de 1 en 1"
   ]
  },
  {
   "cell_type": "code",
   "execution_count": 36,
   "metadata": {},
   "outputs": [
    {
     "data": {
      "text/plain": [
       "Fecha       object\n",
       "Último      object\n",
       "Apertura    object\n",
       "Máximo      object\n",
       "Mínimo      object\n",
       "Vol.        object\n",
       "% var.      object\n",
       "dtype: object"
      ]
     },
     "execution_count": 36,
     "metadata": {},
     "output_type": "execute_result"
    }
   ],
   "source": [
    "varDataFrame.dtypes             # Nos muestra el tipo de dato de cada columna"
   ]
  },
  {
   "cell_type": "markdown",
   "metadata": {},
   "source": [
    "#### Métodos: Es una función que es definida dentro del cuerpo de una clase"
   ]
  },
  {
   "cell_type": "code",
   "execution_count": 37,
   "metadata": {},
   "outputs": [
    {
     "name": "stdout",
     "output_type": "stream",
     "text": [
      "<class 'pandas.core.frame.DataFrame'>\n",
      "RangeIndex: 4944 entries, 0 to 4943\n",
      "Data columns (total 7 columns):\n",
      " #   Column    Non-Null Count  Dtype \n",
      "---  ------    --------------  ----- \n",
      " 0   Fecha     4944 non-null   object\n",
      " 1   Último    4944 non-null   object\n",
      " 2   Apertura  4944 non-null   object\n",
      " 3   Máximo    4944 non-null   object\n",
      " 4   Mínimo    4944 non-null   object\n",
      " 5   Vol.      4938 non-null   object\n",
      " 6   % var.    4944 non-null   object\n",
      "dtypes: object(7)\n",
      "memory usage: 270.5+ KB\n"
     ]
    }
   ],
   "source": [
    "varDataFrame.info()             # Nos muestra información básica de nuestro DataFrame, por lo general se utiliza para determinar si nuesto df contiene o no datos nulos."
   ]
  },
  {
   "cell_type": "code",
   "execution_count": 38,
   "metadata": {},
   "outputs": [
    {
     "data": {
      "text/html": [
       "<div>\n",
       "<style scoped>\n",
       "    .dataframe tbody tr th:only-of-type {\n",
       "        vertical-align: middle;\n",
       "    }\n",
       "\n",
       "    .dataframe tbody tr th {\n",
       "        vertical-align: top;\n",
       "    }\n",
       "\n",
       "    .dataframe thead th {\n",
       "        text-align: right;\n",
       "    }\n",
       "</style>\n",
       "<table border=\"1\" class=\"dataframe\">\n",
       "  <thead>\n",
       "    <tr style=\"text-align: right;\">\n",
       "      <th></th>\n",
       "      <th>Fecha</th>\n",
       "      <th>Último</th>\n",
       "      <th>Apertura</th>\n",
       "      <th>Máximo</th>\n",
       "      <th>Mínimo</th>\n",
       "      <th>Vol.</th>\n",
       "      <th>% var.</th>\n",
       "    </tr>\n",
       "  </thead>\n",
       "  <tbody>\n",
       "    <tr>\n",
       "      <th>count</th>\n",
       "      <td>4944</td>\n",
       "      <td>4944</td>\n",
       "      <td>4944</td>\n",
       "      <td>4944</td>\n",
       "      <td>4944</td>\n",
       "      <td>4938</td>\n",
       "      <td>4944</td>\n",
       "    </tr>\n",
       "    <tr>\n",
       "      <th>unique</th>\n",
       "      <td>4944</td>\n",
       "      <td>3989</td>\n",
       "      <td>3982</td>\n",
       "      <td>3977</td>\n",
       "      <td>3986</td>\n",
       "      <td>4382</td>\n",
       "      <td>1543</td>\n",
       "    </tr>\n",
       "    <tr>\n",
       "      <th>top</th>\n",
       "      <td>29.01.2024</td>\n",
       "      <td>0,1</td>\n",
       "      <td>0,1</td>\n",
       "      <td>0,1</td>\n",
       "      <td>0,1</td>\n",
       "      <td>1,05M</td>\n",
       "      <td>0,00%</td>\n",
       "    </tr>\n",
       "    <tr>\n",
       "      <th>freq</th>\n",
       "      <td>1</td>\n",
       "      <td>100</td>\n",
       "      <td>100</td>\n",
       "      <td>97</td>\n",
       "      <td>101</td>\n",
       "      <td>6</td>\n",
       "      <td>429</td>\n",
       "    </tr>\n",
       "  </tbody>\n",
       "</table>\n",
       "</div>"
      ],
      "text/plain": [
       "             Fecha Último Apertura Máximo Mínimo   Vol. % var.\n",
       "count         4944   4944     4944   4944   4944   4938   4944\n",
       "unique        4944   3989     3982   3977   3986   4382   1543\n",
       "top     29.01.2024    0,1      0,1    0,1    0,1  1,05M  0,00%\n",
       "freq             1    100      100     97    101      6    429"
      ]
     },
     "execution_count": 38,
     "metadata": {},
     "output_type": "execute_result"
    }
   ],
   "source": [
    "varDataFrame.describe()         # Nos muestra valores estadísticos del DataFrame"
   ]
  },
  {
   "cell_type": "markdown",
   "metadata": {},
   "source": [
    "#### Funciones: Es un grupo de sentencias relacionadas que hacen una tarea específica."
   ]
  },
  {
   "cell_type": "code",
   "execution_count": 28,
   "metadata": {},
   "outputs": [
    {
     "name": "stdout",
     "output_type": "stream",
     "text": [
      "<class 'pandas.core.frame.DataFrame'>\n",
      "RangeIndex: 4944 entries, 0 to 4943\n",
      "Data columns (total 7 columns):\n",
      " #   Column    Non-Null Count  Dtype \n",
      "---  ------    --------------  ----- \n",
      " 0   Fecha     4944 non-null   object\n",
      " 1   Último    4944 non-null   object\n",
      " 2   Apertura  4944 non-null   object\n",
      " 3   Máximo    4944 non-null   object\n",
      " 4   Mínimo    4944 non-null   object\n",
      " 5   Vol.      4938 non-null   object\n",
      " 6   % var.    4944 non-null   object\n",
      "dtypes: object(7)\n",
      "memory usage: 270.5+ KB\n"
     ]
    }
   ],
   "source": [
    "\n",
    "varDataFrame.info()     # Muestra información sobre las columnas, tipos de datos y valores no nulos."
   ]
  },
  {
   "cell_type": "code",
   "execution_count": 31,
   "metadata": {},
   "outputs": [
    {
     "data": {
      "text/plain": [
       "(4944, 7)"
      ]
     },
     "execution_count": 31,
     "metadata": {},
     "output_type": "execute_result"
    }
   ],
   "source": [
    "varDataFrame.shape      # Devuelve una tupla que representa el número de filas y columnas."
   ]
  },
  {
   "cell_type": "code",
   "execution_count": 3,
   "metadata": {},
   "outputs": [
    {
     "data": {
      "text/plain": [
       "4944"
      ]
     },
     "execution_count": 3,
     "metadata": {},
     "output_type": "execute_result"
    }
   ],
   "source": [
    "len(varDataFrame)       # Nos dice el tamaño del DataFrame (total de filas)"
   ]
  },
  {
   "cell_type": "code",
   "execution_count": 10,
   "metadata": {},
   "outputs": [
    {
     "data": {
      "text/plain": [
       "4943"
      ]
     },
     "execution_count": 10,
     "metadata": {},
     "output_type": "execute_result"
    }
   ],
   "source": [
    "max(varDataFrame.index) # Nos dice el valor máximo del DataFrame segun la columna que parametricemos"
   ]
  },
  {
   "cell_type": "code",
   "execution_count": 11,
   "metadata": {},
   "outputs": [
    {
     "data": {
      "text/plain": [
       "0"
      ]
     },
     "execution_count": 11,
     "metadata": {},
     "output_type": "execute_result"
    }
   ],
   "source": [
    "min(varDataFrame.index) # Nos dice el valor mínimo del DataFrame segun la columna que parametricemos"
   ]
  }
 ],
 "metadata": {
  "kernelspec": {
   "display_name": "Python 3",
   "language": "python",
   "name": "python3"
  },
  "language_info": {
   "codemirror_mode": {
    "name": "ipython",
    "version": 3
   },
   "file_extension": ".py",
   "mimetype": "text/x-python",
   "name": "python",
   "nbconvert_exporter": "python",
   "pygments_lexer": "ipython3",
   "version": "3.11.5"
  }
 },
 "nbformat": 4,
 "nbformat_minor": 2
}
